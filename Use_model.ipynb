{
 "cells": [
  {
   "cell_type": "code",
   "execution_count": 2,
   "metadata": {},
   "outputs": [],
   "source": [
    "import tensorflow as tf\n",
    "import numpy as np\n",
    "from keras.models import Model\n",
    "import keras\n"
   ]
  },
  {
   "cell_type": "code",
   "execution_count": 3,
   "metadata": {},
   "outputs": [],
   "source": [
    "Classificate = tf.keras.models.load_model('model2')"
   ]
  },
  {
   "cell_type": "code",
   "execution_count": 4,
   "metadata": {},
   "outputs": [],
   "source": [
    "test_datagen = tf.keras.preprocessing.image.ImageDataGenerator(rescale=1./255)"
   ]
  },
  {
   "cell_type": "code",
   "execution_count": 5,
   "metadata": {},
   "outputs": [
    {
     "name": "stdout",
     "output_type": "stream",
     "text": [
      "Found 312 images belonging to 26 classes.\n"
     ]
    }
   ],
   "source": [
    "test = test_datagen.flow_from_directory(\n",
    "        \"Dataset1\\\\test\",\n",
    "        target_size=(512, 512),\n",
    "        batch_size=5,\n",
    "        class_mode='binary',\n",
    "        shuffle=True\n",
    ")"
   ]
  },
  {
   "cell_type": "code",
   "execution_count": 6,
   "metadata": {},
   "outputs": [
    {
     "name": "stdout",
     "output_type": "stream",
     "text": [
      "['Amber', 'Ayaka', 'Barbara', 'Eula', 'Fischl', 'Furina', 'Ganyu', 'HuTao', 'Keqing', 'Layla', 'Lisa', 'Lumine', 'Mona', 'Nilou', 'Ningguang', 'Noelle', 'Raiden', 'Rosaria', 'Sara', 'Shenhe', 'Sucrose', 'Xiangling', 'Yae', 'Yanfei', 'Yelan', 'Yoimiya']\n"
     ]
    }
   ],
   "source": [
    "print(list(test.class_indices))"
   ]
  },
  {
   "cell_type": "code",
   "execution_count": 24,
   "metadata": {},
   "outputs": [],
   "source": [
    "image = tf.keras.utils.load_img(r\"Project\\Test\\photo_158@06-02-2021_23-33-00.jpg\",target_size=(512,512))\n",
    "input_arr = tf.keras.utils.img_to_array(image)* 1./ 255\n",
    "input_arr = np.array([input_arr]) "
   ]
  },
  {
   "cell_type": "code",
   "execution_count": 25,
   "metadata": {},
   "outputs": [
    {
     "name": "stdout",
     "output_type": "stream",
     "text": [
      "1/1 [==============================] - 0s 231ms/step\n",
      "[[1.5873597e-07 1.6529101e-07 4.0533235e-10 1.8545907e-09 8.9362935e-08\n",
      "  5.5056506e-07 5.6690028e-06 2.6831110e-06 2.0899298e-04 3.4081668e-06\n",
      "  4.8343036e-08 9.2752750e-12 9.9113452e-01 3.3778229e-09 6.7315065e-09\n",
      "  2.3832638e-07 8.2987268e-03 1.9937673e-07 3.4128246e-04 4.3982243e-07\n",
      "  1.7627289e-10 1.9706870e-06 4.4880991e-07 1.0327678e-07 2.2534461e-07\n",
      "  1.8127921e-11]]\n"
     ]
    }
   ],
   "source": [
    "b = Model.predict(Classificate, input_arr)\n",
    "print(b)"
   ]
  },
  {
   "cell_type": "code",
   "execution_count": 26,
   "metadata": {},
   "outputs": [
    {
     "name": "stdout",
     "output_type": "stream",
     "text": [
      "This image most likely belongs to Mona with a 99.11 percent confidence.\n"
     ]
    }
   ],
   "source": [
    "print(\n",
    "    f\"This image most likely belongs to {list(test.class_indices)[np.argmax(b)]} with a {100 * np.max(b)} percent confidence\"\n",
    ")"
   ]
  },
  {
   "cell_type": "markdown",
   "metadata": {},
   "source": []
  }
 ],
 "metadata": {
  "kernelspec": {
   "display_name": "base",
   "language": "python",
   "name": "python3"
  },
  "language_info": {
   "codemirror_mode": {
    "name": "ipython",
    "version": 3
   },
   "file_extension": ".py",
   "mimetype": "text/x-python",
   "name": "python",
   "nbconvert_exporter": "python",
   "pygments_lexer": "ipython3",
   "version": "3.11.7"
  }
 },
 "nbformat": 4,
 "nbformat_minor": 2
}
