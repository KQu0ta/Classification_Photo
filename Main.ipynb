{
 "cells": [
  {
   "cell_type": "code",
   "execution_count": 9,
   "metadata": {},
   "outputs": [],
   "source": [
    "import matplotlib.pyplot as plt\n",
    "import matplotlib\n",
    "import numpy as np\n",
    "import random\n",
    "import tensorflow as tf\n",
    "import splitfolders"
   ]
  },
  {
   "cell_type": "code",
   "execution_count": 10,
   "metadata": {},
   "outputs": [
    {
     "name": "stdout",
     "output_type": "stream",
     "text": [
      "0.5.1\n"
     ]
    }
   ],
   "source": [
    "print(splitfolders.__version__)"
   ]
  },
  {
   "cell_type": "code",
   "execution_count": null,
   "metadata": {},
   "outputs": [],
   "source": [
    "\n",
    "\n",
    "input_folder = \"Dataset\\Trainning\" #Enter Input Folder\n",
    "output = \"Dataset\" #Enter Output Folder\n",
    "\n",
    "splitfolders.ratio(input_folder, output=output, seed=42, ratio=(0.7,0.3))"
   ]
  },
  {
   "cell_type": "code",
   "execution_count": null,
   "metadata": {},
   "outputs": [],
   "source": [
    "train_datagen = tf.keras.preprocessing.image.ImageDataGenerator(\n",
    "        rescale=1./255,\n",
    "        zoom_range=0.1,\n",
    "        shear_range=0.2,\n",
    "        horizontal_flip=True,\n",
    "        rotation_range = random.randint(5,45),\n",
    "        height_shift_range=0.15,\n",
    "        width_shift_range=0.1,\n",
    "        fill_mode=\"constant\"\n",
    "        )\n",
    "test_datagen = tf.keras.preprocessing.image.ImageDataGenerator(rescale=1./255)"
   ]
  },
  {
   "cell_type": "code",
   "execution_count": null,
   "metadata": {},
   "outputs": [
    {
     "name": "stdout",
     "output_type": "stream",
     "text": [
      "Found 2366 images belonging to 26 classes.\n",
      "Found 1014 images belonging to 26 classes.\n",
      "Found 312 images belonging to 26 classes.\n"
     ]
    }
   ],
   "source": [
    "train_generator = train_datagen.flow_from_directory(\n",
    "        \"Dataset1\\\\train\",\n",
    "        target_size=(512, 512),\n",
    "        batch_size=24,\n",
    "        class_mode='binary',\n",
    "        shuffle=True\n",
    ")\n",
    "validation_generator = test_datagen.flow_from_directory(\n",
    "        \"Dataset1\\\\val\",\n",
    "        target_size=(512, 512),\n",
    "        batch_size=24,\n",
    "        class_mode='binary',\n",
    "        shuffle=True\n",
    ")\n",
    "test = test_datagen.flow_from_directory(\n",
    "        \"Dataset1\\\\test\",\n",
    "        target_size=(512, 512),\n",
    "        batch_size=5,\n",
    "        class_mode='binary',\n",
    "        shuffle=True\n",
    ")"
   ]
  },
  {
   "cell_type": "code",
   "execution_count": null,
   "metadata": {},
   "outputs": [],
   "source": [
    "model = tf.keras.models.Sequential([\n",
    "  tf.keras.layers.Conv2D(16, 3, padding='same', activation=tf.keras.layers.LeakyReLU(alpha=0.2), input_shape=(512, 512, 3)),\n",
    "  tf.keras.layers.MaxPooling2D(),\n",
    "\n",
    "  tf.keras.layers.Conv2D(32, 3, padding='same', activation=tf.keras.layers.LeakyReLU(alpha=0.2)),\n",
    "  tf.keras.layers.MaxPooling2D(),\n",
    "\n",
    "  tf.keras.layers.Conv2D(64, 3, padding='same', activation=tf.keras.layers.LeakyReLU(alpha=0.2)),\n",
    "  tf.keras.layers.MaxPooling2D(),\n",
    "\n",
    "  tf.keras.layers.Conv2D(64, 5, padding='same', activation=tf.keras.layers.LeakyReLU(alpha=0.2)),\n",
    "  tf.keras.layers.MaxPooling2D(),\n",
    "\n",
    "  tf.keras.layers.Conv2D(128, 3, padding='same', activation=tf.keras.layers.LeakyReLU(alpha=0.2)),\n",
    "  tf.keras.layers.MaxPooling2D(),\n",
    "\n",
    "  tf.keras.layers.Conv2D(128, 5, padding='same', activation=tf.keras.layers.LeakyReLU(alpha=0.2)),\n",
    "  tf.keras.layers.MaxPooling2D(),\n",
    "\n",
    "  tf.keras.layers.Conv2D(256, 3, padding='same', activation=tf.keras.layers.LeakyReLU(alpha=0.2)),\n",
    "  tf.keras.layers.MaxPooling2D(),\n",
    "\n",
    "  tf.keras.layers.Dropout(0.5),\n",
    "\n",
    "  tf.keras.layers.Flatten(),\n",
    "  tf.keras.layers.Dense(512, activation=tf.keras.layers.LeakyReLU(alpha=0.2)),\n",
    "  tf.keras.layers.Dense(26, activation='softmax')\n",
    "])"
   ]
  },
  {
   "cell_type": "code",
   "execution_count": null,
   "metadata": {},
   "outputs": [],
   "source": [
    "model.compile(optimizer='adam',\n",
    "              loss=tf.keras.losses.SparseCategoricalCrossentropy(),\n",
    "              metrics=['accuracy'])"
   ]
  },
  {
   "cell_type": "code",
   "execution_count": null,
   "metadata": {},
   "outputs": [],
   "source": [
    "model.summary()"
   ]
  },
  {
   "cell_type": "code",
   "execution_count": null,
   "metadata": {},
   "outputs": [],
   "source": [
    "epochs=60\n",
    "history = model.fit(\n",
    "  train_generator,\n",
    "  steps_per_epoch=int(np.ceil(2366  / float(24))),\n",
    "\n",
    "  validation_data=validation_generator,\n",
    "  validation_steps=int(np.ceil(1014 / float(24))),\n",
    "  epochs=epochs\n",
    ")"
   ]
  },
  {
   "cell_type": "code",
   "execution_count": null,
   "metadata": {},
   "outputs": [],
   "source": [
    "acc = history.history['accuracy']\n",
    "val_acc = history.history['val_accuracy']\n",
    "\n",
    "loss = history.history['loss']\n",
    "val_loss = history.history['val_loss']\n",
    "\n",
    "epochs_range = range(epochs)\n",
    "\n",
    "plt.figure(figsize=(8, 8))\n",
    "plt.subplot(1, 2, 1)\n",
    "plt.plot(epochs_range, acc, label='Training Accuracy')\n",
    "plt.plot(epochs_range, val_acc, label='Validation Accuracy')\n",
    "plt.legend(loc='lower right')\n",
    "plt.title('Training and Validation Accuracy')\n",
    "\n",
    "plt.subplot(1, 2, 2)\n",
    "plt.plot(epochs_range, loss, label='Training Loss')\n",
    "plt.plot(epochs_range, val_loss, label='Validation Loss')\n",
    "plt.legend(loc='upper right')\n",
    "plt.title('Training and Validation Loss')\n",
    "plt.show()"
   ]
  },
  {
   "cell_type": "code",
   "execution_count": null,
   "metadata": {},
   "outputs": [],
   "source": [
    "model.save('model1')"
   ]
  }
 ],
 "metadata": {
  "kernelspec": {
   "display_name": "Python 3",
   "language": "python",
   "name": "python3"
  },
  "language_info": {
   "codemirror_mode": {
    "name": "ipython",
    "version": 3
   },
   "file_extension": ".py",
   "mimetype": "text/x-python",
   "name": "python",
   "nbconvert_exporter": "python",
   "pygments_lexer": "ipython3",
   "version": "3.11.7"
  }
 },
 "nbformat": 4,
 "nbformat_minor": 2
}
